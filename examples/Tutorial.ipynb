{
 "cells": [
  {
   "cell_type": "markdown",
   "metadata": {},
   "source": [
    "This tutorial assumes the reader is already familiar with `tcpdump`, the command-line packet analyzer. Given a `tcpdump` command, we will show how you can find the equivalent set of network packets with the Intake PCAP plugin."
   ]
  },
  {
   "cell_type": "markdown",
   "metadata": {},
   "source": [
    "### Intake Catalog"
   ]
  },
  {
   "cell_type": "markdown",
   "metadata": {},
   "source": [
    "The catalog examples below are defined with the following format (see `examples/sample.yml`):"
   ]
  },
  {
   "cell_type": "markdown",
   "metadata": {},
   "source": [
    "```\n",
    "plugins:\n",
    "  source:\n",
    "    - module: intake_pcap\n",
    "sources:\n",
    "  - name: raw_live\n",
    "    driver: pcap\n",
    "    args:\n",
    "      urlpath: ~\n",
    "      interface: en0\n",
    "      chunksize: 10\n",
    "  - name: raw_local\n",
    "    driver: pcap\n",
    "    args:\n",
    "      urlpath: !template '{{ CATALOG_DIR }}/local.pcap'\n",
    "  - name: tcp_local\n",
    "    driver: pcap\n",
    "    args:\n",
    "      urlpath: !template '{{ CATALOG_DIR }}/local.pcap'\n",
    "      protocol: tcp\n",
    "  - name: udp_local\n",
    "    driver: pcap\n",
    "    args:\n",
    "      urlpath: !template '{{ CATALOG_DIR }}/local.pcap'\n",
    "      protocol: udp\n",
    "```"
   ]
  },
  {
   "cell_type": "markdown",
   "metadata": {},
   "source": [
    "### Preparation"
   ]
  },
  {
   "cell_type": "code",
   "execution_count": null,
   "metadata": {},
   "outputs": [],
   "source": [
    "import pandas as pd\n",
    "\n",
    "pd.set_option('display.max_columns', 10)\n",
    "pd.set_option('display.width', 1000)"
   ]
  },
  {
   "cell_type": "markdown",
   "metadata": {},
   "source": [
    "These examples require that you run this command, `sudo tcpdump -i en0 -c 10 -w local.pcap`, in order to create the local PCAP data."
   ]
  },
  {
   "cell_type": "markdown",
   "metadata": {},
   "source": [
    "These examples also assume the default network interface is `en0`, which is used on macOS. See your local documentation for the default network interface if your OS is different."
   ]
  },
  {
   "cell_type": "markdown",
   "metadata": {},
   "source": [
    "### Read live stream"
   ]
  },
  {
   "cell_type": "markdown",
   "metadata": {},
   "source": [
    "To read a live stream of packets, you need to start Jupyter using `sudo jupyter notebook --allow-root`."
   ]
  },
  {
   "cell_type": "markdown",
   "metadata": {},
   "source": [
    "**NOTE**: Intake does not currently support streaming packets from the network interface. Packets will be placed into a dataframe in chunks (which can be adjusted by the user)."
   ]
  },
  {
   "cell_type": "markdown",
   "metadata": {},
   "source": [
    "#### Example: tcpdump"
   ]
  },
  {
   "cell_type": "markdown",
   "metadata": {},
   "source": [
    "This example will show the first 10 packets on the interface `en0`. Each packet will be timestamped and the raw IP address will be displayed. No packets will be filtered."
   ]
  },
  {
   "cell_type": "markdown",
   "metadata": {},
   "source": [
    "`sudo tcpdump -i en0 -c 10 -tttt -n -q`"
   ]
  },
  {
   "cell_type": "markdown",
   "metadata": {},
   "source": [
    "```\n",
    "2018-01-08 23:37:21.882212 IP 8.8.8.8.53 > 192.168.0.39.61362: UDP, length 172\n",
    "2018-01-08 23:37:21.882927 IP 192.168.0.39.61447 > 52.12.34.56.443: tcp 0\n",
    "2018-01-08 23:37:21.953415 IP 52.23.45.67.443 > 192.168.0.39.61445: tcp 0\n",
    "2018-01-08 23:37:21.953528 IP 192.168.0.39.61445 > 52.23.45.67.443: tcp 0\n",
    "2018-01-08 23:37:21.991435 IP 52.12.34.56.443 > 192.168.0.39.61447: tcp 0\n",
    "2018-01-08 23:37:21.991523 IP 192.168.0.39.61447 > 52.12.34.56.443: tcp 0\n",
    "2018-01-08 23:37:21.993620 IP 192.168.0.39.61447 > 52.12.34.56.443: tcp 517\n",
    "2018-01-08 23:37:22.093955 IP 52.12.34.56.443 > 192.168.0.39.61447: tcp 0\n",
    "2018-01-08 23:37:22.099580 IP 52.12.34.56.443 > 192.168.0.39.61447: tcp 1448\n",
    "2018-01-08 23:37:22.099587 IP 52.12.34.56.443 > 192.168.0.39.61447: tcp 1448\n",
    "```"
   ]
  },
  {
   "cell_type": "markdown",
   "metadata": {},
   "source": [
    "#### Example: Get stream of packets without catalog"
   ]
  },
  {
   "cell_type": "markdown",
   "metadata": {},
   "source": [
    "This example is equivalent to the `tcpdump` example, except the packets will be available in a dataframe."
   ]
  },
  {
   "cell_type": "code",
   "execution_count": null,
   "metadata": {},
   "outputs": [],
   "source": [
    "from intake_pcap import LiveStream\n",
    "lstream = LiveStream(\"en0\")\n",
    "df0 = lstream.to_dataframe(n=10)\n",
    "df0"
   ]
  },
  {
   "cell_type": "markdown",
   "metadata": {},
   "source": [
    "```\n",
    "                       time       src_host src_port         dst_host dst_port protocol\n",
    "0 2018-01-09 07:42:36.055605   52.12.34.56      443     192.168.0.39    61614      tcp\n",
    "1 2018-01-09 07:42:36.055682  192.168.0.39    61614      52.12.34.56      443      tcp\n",
    "2 2018-01-09 07:42:37.839555  192.168.0.39    17500  255.255.255.255    17500      udp\n",
    "3 2018-01-09 07:42:37.840472  192.168.0.39    17500    192.168.0.255    17500      udp\n",
    "4 2018-01-09 07:42:37.890092  192.168.0.39    61614      52.12.34.56      443      tcp\n",
    "5 2018-01-09 07:42:37.890243  192.168.0.39    61616      52.12.34.56      443      tcp\n",
    "6 2018-01-09 07:42:37.912166   52.12.34.56      443     192.168.0.39    61616      tcp\n",
    "7 2018-01-09 07:42:37.912237  192.168.0.39    61616      52.12.34.56      443      tcp\n",
    "8 2018-01-09 07:42:37.912399  192.168.0.39    61616      52.12.34.56      443      tcp\n",
    "9 2018-01-09 07:42:37.912833  192.168.0.39    61376     104.12.34.56     4070      tcp\n",
    "```"
   ]
  },
  {
   "cell_type": "markdown",
   "metadata": {},
   "source": [
    "#### Example: Get stream of packets with catalog"
   ]
  },
  {
   "cell_type": "markdown",
   "metadata": {},
   "source": [
    "This example is equivalent to the `tcpdump` example, except the packets will be available in a dataframe."
   ]
  },
  {
   "cell_type": "code",
   "execution_count": null,
   "metadata": {},
   "outputs": [],
   "source": [
    "from intake.catalog import Catalog\n",
    "c = Catalog(\"sample.yml\")\n",
    "src = c[\"raw_live\"].get()\n",
    "df1 = src.read()\n",
    "df1"
   ]
  },
  {
   "cell_type": "markdown",
   "metadata": {},
   "source": [
    "```\n",
    "                        time      src_host src_port         dst_host dst_port protocol\n",
    "0 2018-01-09 07:47:26.825023  192.168.0.1    36123  239.255.255.250     1900      udp\n",
    "1 2018-01-09 07:47:26.825845  192.168.0.1    36123  239.255.255.250     1900      udp\n",
    "2 2018-01-09 07:47:26.826602  192.168.0.1    36123  239.255.255.250     1900      udp\n",
    "3 2018-01-09 07:47:26.827547  192.168.0.1    36123  239.255.255.250     1900      udp\n",
    "4 2018-01-09 07:47:26.828168  192.168.0.1    36123  239.255.255.250     1900      udp\n",
    "5 2018-01-09 07:47:26.829162  192.168.0.1    36123  239.255.255.250     1900      udp\n",
    "6 2018-01-09 07:47:26.829865  192.168.0.1    36123  239.255.255.250     1900      udp\n",
    "7 2018-01-09 07:47:26.830832  192.168.0.1    36123  239.255.255.250     1900      udp\n",
    "8 2018-01-09 07:47:26.831615  192.168.0.1    36123  239.255.255.250     1900      udp\n",
    "9 2018-01-09 07:47:26.832476  192.168.0.1    36123  239.255.255.250     1900      udp\n",
    "```"
   ]
  },
  {
   "cell_type": "markdown",
   "metadata": {},
   "source": [
    "### Read PCAP file"
   ]
  },
  {
   "cell_type": "markdown",
   "metadata": {},
   "source": [
    "#### Example: tcpdump"
   ]
  },
  {
   "cell_type": "markdown",
   "metadata": {},
   "source": [
    "This example will show the first 10 packets from `local.pcap`. Each packet will be timestamped and the raw IP address will be displayed. No packets will be filtered."
   ]
  },
  {
   "cell_type": "markdown",
   "metadata": {},
   "source": [
    "`sudo tcpdump -c 10 -tttt -n -q -r local.pcap`"
   ]
  },
  {
   "cell_type": "markdown",
   "metadata": {},
   "source": [
    "```\n",
    "2018-01-09 00:16:12.210010 IP 192.168.0.39.54703 > 172.123.4.567.443: UDP, length 1350\n",
    "2018-01-09 00:16:12.210910 IP 192.168.0.39.54703 > 172.123.4.567.443: UDP, length 998\n",
    "2018-01-09 00:16:12.236176 IP 172.123.4.567.443 > 192.168.0.39.54703: UDP, length 1350\n",
    "2018-01-09 00:16:12.236543 IP 172.123.4.567.443 > 192.168.0.39.54703: UDP, length 31\n",
    "2018-01-09 00:16:12.236726 IP 192.168.0.39.54703 > 172.123.4.567.443: UDP, length 41\n",
    "2018-01-09 00:16:12.236791 IP 192.168.0.39.54703 > 172.123.4.567.443: UDP, length 38\n",
    "2018-01-09 00:16:12.251367 STP 802.1d, Config, Flags [none], bridge-id 7b00.01:23:45:67:89:00.8002, length 35\n",
    "2018-01-09 00:16:12.252565 IP 172.123.4.567.443 > 192.168.0.39.54703: UDP, length 30\n",
    "2018-01-09 00:16:12.313082 IP 172.123.4.567.443 > 192.168.0.39.54703: UDP, length 814\n",
    "2018-01-09 00:16:12.313479 IP 172.123.4.567.443 > 192.168.0.39.54703: UDP, length 16\n",
    "```"
   ]
  },
  {
   "cell_type": "markdown",
   "metadata": {},
   "source": [
    "This example is equivalent to the `tcpdump` example, except the packets will be available in a dataframe."
   ]
  },
  {
   "cell_type": "markdown",
   "metadata": {},
   "source": [
    "#### Example: Get stream of packets without catalog"
   ]
  },
  {
   "cell_type": "code",
   "execution_count": null,
   "metadata": {},
   "outputs": [],
   "source": [
    "from intake_pcap import OfflineStream\n",
    "ostream = OfflineStream(\"local.pcap\")\n",
    "ostream.set_filter(\"udp\")\n",
    "df2 = ostream.to_dataframe()\n",
    "df2"
   ]
  },
  {
   "cell_type": "markdown",
   "metadata": {},
   "source": [
    "```\n",
    "                        time       src_host src_port       dst_host dst_port protocol\n",
    "0 2018-01-09 08:16:12.210010   192.168.0.39    54703  172.123.4.567      443      udp\n",
    "1 2018-01-09 08:16:12.210910   192.168.0.39    54703  172.123.4.567      443      udp\n",
    "2 2018-01-09 08:16:12.236176  172.123.4.567      443   192.168.0.39    54703      udp\n",
    "3 2018-01-09 08:16:12.236543  172.123.4.567      443   192.168.0.39    54703      udp\n",
    "4 2018-01-09 08:16:12.236726   192.168.0.39    54703  172.123.4.567      443      udp\n",
    "5 2018-01-09 08:16:12.236791   192.168.0.39    54703  172.123.4.567      443      udp\n",
    "6 2018-01-09 08:16:12.252565  172.123.4.567      443   192.168.0.39    54703      udp\n",
    "7 2018-01-09 08:16:12.313082  172.123.4.567      443   192.168.0.39    54703      udp\n",
    "8 2018-01-09 08:16:12.313479  172.123.4.567      443   192.168.0.39    54703      udp\n",
    "```"
   ]
  },
  {
   "cell_type": "markdown",
   "metadata": {},
   "source": [
    "This example is equivalent to the `tcpdump` example, except the packets will be available in a dataframe."
   ]
  },
  {
   "cell_type": "markdown",
   "metadata": {},
   "source": [
    "#### Example: Get stream of packets with catalog"
   ]
  },
  {
   "cell_type": "code",
   "execution_count": null,
   "metadata": {},
   "outputs": [],
   "source": [
    "from intake.catalog import Catalog\n",
    "c = Catalog(\"sample.yml\")\n",
    "src = c[\"udp_local\"].get()\n",
    "df3 = src.read()\n",
    "df3"
   ]
  },
  {
   "cell_type": "markdown",
   "metadata": {},
   "source": [
    "```\n",
    "                        time       src_host src_port       dst_host dst_port protocol\n",
    "0 2018-01-09 08:16:12.210010   192.168.0.39    54703  172.123.4.567      443      udp\n",
    "1 2018-01-09 08:16:12.210910   192.168.0.39    54703  172.123.4.567      443      udp\n",
    "2 2018-01-09 08:16:12.236176  172.123.4.567      443   192.168.0.39    54703      udp\n",
    "3 2018-01-09 08:16:12.236543  172.123.4.567      443   192.168.0.39    54703      udp\n",
    "4 2018-01-09 08:16:12.236726   192.168.0.39    54703  172.123.4.567      443      udp\n",
    "5 2018-01-09 08:16:12.236791   192.168.0.39    54703  172.123.4.567      443      udp\n",
    "6 2018-01-09 08:16:12.252565  172.123.4.567      443   192.168.0.39    54703      udp\n",
    "7 2018-01-09 08:16:12.313082  172.123.4.567      443   192.168.0.39    54703      udp\n",
    "8 2018-01-09 08:16:12.313479  172.123.4.567      443   192.168.0.39    54703      udp\n",
    "```"
   ]
  },
  {
   "cell_type": "code",
   "execution_count": null,
   "metadata": {},
   "outputs": [],
   "source": []
  }
 ],
 "metadata": {
  "kernelspec": {
   "display_name": "Python 3",
   "language": "python",
   "name": "python3"
  },
  "language_info": {
   "codemirror_mode": {
    "name": "ipython",
    "version": 3
   },
   "file_extension": ".py",
   "mimetype": "text/x-python",
   "name": "python",
   "nbconvert_exporter": "python",
   "pygments_lexer": "ipython3",
   "version": "3.6.3"
  }
 },
 "nbformat": 4,
 "nbformat_minor": 2
}
